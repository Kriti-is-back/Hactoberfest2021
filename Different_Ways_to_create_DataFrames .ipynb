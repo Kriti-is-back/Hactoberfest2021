{
 "cells": [
  {
   "cell_type": "code",
   "execution_count": 5,
   "metadata": {},
   "outputs": [
    {
     "name": "stdout",
     "output_type": "stream",
     "text": [
      "          day  temperature  windspeed  event\n",
      "0  01-01-2021           32          6   rain\n",
      "1  02-01-2021           35          7  sunny\n",
      "2  03-01-2021           28          2   snow\n",
      "3  04-01-2021           24          7   snow\n",
      "4  05-01-2021           32          4   rain\n",
      "5  06-01-2021           32          2  sunny\n"
     ]
    }
   ],
   "source": [
    "#creating dataframes using csv files by reading the files\n",
    "df=pd.read_csv(\"weather_data.csv\")\n",
    "print(df)"
   ]
  },
  {
   "cell_type": "code",
   "execution_count": 19,
   "metadata": {},
   "outputs": [
    {
     "name": "stdout",
     "output_type": "stream",
     "text": [
      "         day  temperature  windspeed  event\n",
      "0 2021-01-01           32          6   rain\n",
      "1 2021-01-02           35          7  sunny\n",
      "2 2021-01-03           28          2   snow\n",
      "3 2021-01-04           24          7   snow\n",
      "4 2021-01-05           32          4   rain\n",
      "5 2021-01-06           32          2  sunny\n"
     ]
    }
   ],
   "source": [
    "#creating dataframes using the excel files by read method\n",
    "import pandas as pd \n",
    "import os\n",
    "\n",
    "os.chdir(\"C:/Users/DIKSHA DESWAL/Desktop/Pandas\")\n",
    "os.getcwd()\n",
    "excel_df=pd.read_excel(\"weather-data.xlsx\")\n",
    "print(excel_df)\n"
   ]
  },
  {
   "cell_type": "code",
   "execution_count": 20,
   "metadata": {},
   "outputs": [
    {
     "name": "stdout",
     "output_type": "stream",
     "text": [
      "          day  temperature  windspeed  event\n",
      "0  01-01-2021           32          6   rain\n",
      "1  02-01-2021           35          7  sunny\n",
      "2  03-01-2021           28          2   snow\n",
      "3  04-01-2021           24          7   snow\n",
      "4  05-01-2021           32          4  rainy\n",
      "5  06-01-2021           32          2  sunny\n"
     ]
    }
   ],
   "source": [
    "#using a dictionary\n",
    "weather_data={\"day\":['01-01-2021','02-01-2021','03-01-2021','04-01-2021','05-01-2021','06-01-2021'],\"temperature\":[32,35,28,24,32,32],\"windspeed\":[6,7,2,7,4,2],\"event\":[\"rain\",\"sunny\",\"snow\",\"snow\",\"rainy\",\"sunny\"]}\n",
    "df=pd.DataFrame(weather_data)\n",
    "print(df)"
   ]
  },
  {
   "cell_type": "code",
   "execution_count": 23,
   "metadata": {},
   "outputs": [
    {
     "name": "stdout",
     "output_type": "stream",
     "text": [
      "          day  temperature  windspeed   rain\n",
      "0  01-01-2021           32          6   rain\n",
      "1  02-01-2021           35          7  sunny\n",
      "2  03-01-2021           28          2   snow\n",
      "3  04-01-2021           24          7   snow\n",
      "4  05-01-2021           32          4  rainy\n",
      "5  06-01-2021           32          2  sunny\n"
     ]
    }
   ],
   "source": [
    "#using a list of tuples\n",
    "weather_data=[('01-01-2021',32,6,'rain'),('02-01-2021',35,7,'sunny'),('03-01-2021',28,2,'snow'),('04-01-2021',24,7,'snow'),('05-01-2021',32,4,'rainy'),('06-01-2021',32,2,'sunny')]\n",
    "df=pd.DataFrame(weather_data,columns=['day','temperature','windspeed','event'])\n",
    "print(df)"
   ]
  },
  {
   "cell_type": "code",
   "execution_count": 24,
   "metadata": {},
   "outputs": [
    {
     "name": "stdout",
     "output_type": "stream",
     "text": [
      "          day temperature  windspeed  event\n",
      "0  01-01-2021          32          6   rain\n",
      "1  02-01-2021          35          7  sunny\n",
      "2  03-01-2021          28          2   snow\n",
      "3  04-01-2021          24          7   snow\n",
      "4  05-01-2021          32          4  rainy\n",
      "5  06-01-2021          32          2  sunny\n"
     ]
    }
   ],
   "source": [
    "#using a list of dictionaries\n",
    "weather_data=[{'day':'01-01-2021','temperature':'32','windspeed':6,'event':'rain'},{'day':'02-01-2021','temperature':'35','windspeed':7,'event':'sunny'},{'day':'03-01-2021','temperature':'28','windspeed':2,'event':'snow'},{'day':'04-01-2021','temperature':'24','windspeed':7,'event':'snow'},{'day':'05-01-2021','temperature':'32','windspeed':4,'event':'rainy'},{'day':'06-01-2021','temperature':'32','windspeed':2,'event':'sunny'}]\n",
    "df=pd.DataFrame(weather_data)\n",
    "print(df)"
   ]
  },
  {
   "cell_type": "code",
   "execution_count": null,
   "metadata": {},
   "outputs": [],
   "source": []
  }
 ],
 "metadata": {
  "kernelspec": {
   "display_name": "Python 3",
   "language": "python",
   "name": "python3"
  },
  "language_info": {
   "codemirror_mode": {
    "name": "ipython",
    "version": 3
   },
   "file_extension": ".py",
   "mimetype": "text/x-python",
   "name": "python",
   "nbconvert_exporter": "python",
   "pygments_lexer": "ipython3",
   "version": "3.8.5"
  }
 },
 "nbformat": 4,
 "nbformat_minor": 4
}
